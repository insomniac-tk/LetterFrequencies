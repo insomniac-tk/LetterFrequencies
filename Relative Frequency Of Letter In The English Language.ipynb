{
 "cells": [
  {
   "cell_type": "markdown",
   "metadata": {},
   "source": [
    "# The distribution of relative letter frequencies in the English language\n",
    "<hr> \n",
    "Ever wondered how many times Willy Shakes used 'e' in his works? Or how rarely did Sir Arthur Conan Doyle use 'z' in his writings? In this silly project I have made an out-of-the-box python module for you to plot relative letter frequencies for the 26 letters in the english alphabet.  \n",
    "The english language is not as random as you think. In terms of _predicatability_ it sucks!"
   ]
  },
  {
   "cell_type": "code",
   "execution_count": 3,
   "metadata": {},
   "outputs": [],
   "source": [
    "from collections import Counter,defaultdict\n",
    "import matplotlib.pyplot as plt"
   ]
  },
  {
   "cell_type": "code",
   "execution_count": 13,
   "metadata": {},
   "outputs": [],
   "source": [
    "def fread(fname):\n",
    "    with open(fname,mode='r') as f:\n",
    "        contents = f.read()\n",
    "    return contents.lower()\n",
    "def letter_counter(input_str):\n",
    "    mushed = ''.join(e for e in input_str if e.isalpha() and e not in [ 'à', 'â', 'æ', 'ç', 'è', 'é', 'ê', 'î', 'œ'])\n",
    "    letter_count = Counter(mushed)\n",
    "    new_d = dict(letter_count)\n",
    "    keys = list(new_d.keys())\n",
    "    keys.sort()\n",
    "    result = defaultdict()\n",
    "    for key in keys:\n",
    "        result[key] = new_d[key]\n",
    "    return result\n",
    "\n",
    "def plot(data):\n",
    "    plt.bar(range(len(data)), list(data.values()), align='center')\n",
    "    plt.xticks(range(len(data)), list(data.keys()))\n",
    "    \n",
    "    \n",
    "    \n",
    "    "
   ]
  },
  {
   "cell_type": "markdown",
   "metadata": {},
   "source": [
    "## William Shakespeare's Entire Works"
   ]
  },
  {
   "cell_type": "code",
   "execution_count": 17,
   "metadata": {},
   "outputs": [
    {
     "name": "stdout",
     "output_type": "stream",
     "text": [
      "Excerpt:\n",
      "﻿the sonnets\n",
      "\n",
      "                    1\n",
      "\n",
      "from fairest creatures we desire increase,\n",
      "that thereby beauty’s rose might never die,\n",
      "but as the riper should by time decease,\n",
      "his tender heir might bear his memory:\n",
      "but thou contracted to thine own bright eyes,\n",
      "feed’st thy light’s flame with self-substantial fuel,\n",
      "making a famine where abundance lies,\n",
      "thy self thy foe, to thy sweet self too cruel:\n",
      "thou that art now the world’s fresh ornament,\n",
      "and only herald to the gaudy spring,\n",
      "within thine own bud buriest\n"
     ]
    }
   ],
   "source": [
    "file_data = fread('completeworksofwillyshakes.txt')\n",
    "print(\"Excerpt:\")\n",
    "print(file_data[0:500])"
   ]
  },
  {
   "cell_type": "code",
   "execution_count": 18,
   "metadata": {
    "scrolled": true
   },
   "outputs": [
    {
     "data": {
      "image/png": "[encoded data removed]",
      "text/plain": [
       "<Figure size 432x288 with 1 Axes>"
      ]
     },
     "metadata": {
      "needs_background": "light"
     },
     "output_type": "display_data"
    }
   ],
   "source": [
    "data = letter_counter(file_data)\n",
    "plot(data)"
   ]
  },
  {
   "cell_type": "markdown",
   "metadata": {},
   "source": [
    "## The Odyssey by Homer"
   ]
  },
  {
   "cell_type": "code",
   "execution_count": 19,
   "metadata": {},
   "outputs": [
    {
     "name": "stdout",
     "output_type": "stream",
     "text": [
      "Excerpt:\n",
      "﻿the odyssey\n",
      "\n",
      "\n",
      "book i\n",
      "\n",
      "the gods in council--minerva's visit to ithaca--the challenge from\n",
      "telemachus to the suitors.\n",
      "\n",
      "tell me, o muse, of that ingenious hero who travelled far and wide after\n",
      "he had sacked the famous town of troy. many cities did he visit, and\n",
      "many were the nations with whose manners and customs he was acquainted;\n",
      "moreover he suffered much by sea while trying to save his own life and\n",
      "bring his men safely home; but do what he might he could not save his\n",
      "men, for they perished thro\n"
     ]
    }
   ],
   "source": [
    "file_data = fread('homer.txt')\n",
    "print(\"Excerpt:\")\n",
    "print(file_data[0:500])"
   ]
  },
  {
   "cell_type": "code",
   "execution_count": 20,
   "metadata": {
    "scrolled": false
   },
   "outputs": [
    {
     "data": {
      "image/png": "[encoded data removed]",
      "text/plain": [
       "<Figure size 432x288 with 1 Axes>"
      ]
     },
     "metadata": {
      "needs_background": "light"
     },
     "output_type": "display_data"
    }
   ],
   "source": [
    "data = letter_counter(file_data)\n",
    "plot(data)"
   ]
  },
  {
   "cell_type": "markdown",
   "metadata": {},
   "source": [
    "# The Song Celestial"
   ]
  },
  {
   "cell_type": "code",
   "execution_count": 32,
   "metadata": {},
   "outputs": [
    {
     "name": "stdout",
     "output_type": "stream",
     "text": [
      "Excerpt:\n",
      "﻿the project gutenberg ebook of the bhagavad-gita, by anonymous\n",
      "\n",
      "this ebook is for the use of anyone anywhere at no cost and with\n",
      "almost no restrictions whatsoever.  you may copy it, give it away or\n",
      "re-use it under the terms of the project gutenberg license included\n",
      "with this ebook or online at www.gutenberg.org\n",
      "\n",
      "\n",
      "title: the bhagavad-gita\n",
      "\n",
      "author: anonymous\n",
      "\n",
      "translator: sir edwin arnold\n",
      "\n",
      "posting date: june 23, 2013 [ebook #2388]\n",
      "release date: november, 2000\n",
      "first posted: january 26, 2000\n",
      "\n",
      "language: english\n",
      "\n",
      "\n",
      "*** start of this project gutenberg ebook the bhagavad-gita ***\n",
      "\n",
      "\n",
      "\n",
      "\n",
      "produced by j. c. byers.  html version by al haines.\n",
      "\n",
      "\n",
      "\n",
      "\n",
      "\n",
      "\n",
      "\n",
      "\n",
      "\n",
      "                       the\n",
      "                 song celestial.\n",
      "                       or\n",
      "                  bhagavad-gita\n",
      "             (from the mahabharata)\n",
      "\n",
      "        being a discourse between arjuna,\n",
      "     prince of india, and the supreme being\n",
      "            und\n"
     ]
    }
   ],
   "source": [
    "file_data = fread('gita.txt')\n",
    "print(\"Excerpt:\")\n",
    "print(file_data[0:900])"
   ]
  },
  {
   "cell_type": "code",
   "execution_count": 33,
   "metadata": {},
   "outputs": [
    {
     "data": {
      "image/png": "[encoded data removed]",
      "text/plain": [
       "<Figure size 432x288 with 1 Axes>"
      ]
     },
     "metadata": {
      "needs_background": "light"
     },
     "output_type": "display_data"
    }
   ],
   "source": [
    "data = letter_counter(file_data)\n",
    "plot(data)"
   ]
  }
 ],
 "metadata": {
  "kernelspec": {
   "display_name": "Python 3",
   "language": "python",
   "name": "python3"
  },
  "language_info": {
   "codemirror_mode": {
    "name": "ipython",
    "version": 3
   },
   "file_extension": ".py",
   "mimetype": "text/x-python",
   "name": "python",
   "nbconvert_exporter": "python",
   "pygments_lexer": "ipython3",
   "version": "3.6.7"
  }
 },
 "nbformat": 4,
 "nbformat_minor": 2
}
