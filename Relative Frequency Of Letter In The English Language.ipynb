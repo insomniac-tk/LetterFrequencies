{
 "cells": [
  {
   "cell_type": "markdown",
   "metadata": {},
   "source": [
    "# The distribution of relative letter frequencies in the English language\n",
    "<hr> \n",
    "Ever wondered how many times Willy Shakes used 'e' in his works? Or how rarely did Sir Arthur Conan Doyle use 'z' in his writings? In this silly project I have made an out-of-the-box python module for you to plot relative letter frequncies for the 26 letters in the english alphabet.  "
   ]
  },
  {
   "cell_type": "code",
   "execution_count": 2,
   "metadata": {},
   "outputs": [],
   "source": [
    "from collections import Counter,defaultdict\n",
    "import matplotlib.pyplot as plt"
   ]
  },
  {
   "cell_type": "code",
   "execution_count": 3,
   "metadata": {},
   "outputs": [],
   "source": [
    "def fread(fname):\n",
    "    with open(fname,mode='r') as f:\n",
    "        contents = f.read()\n",
    "    return contents.lower()\n",
    "def letter_counter(input_str):\n",
    "    mushed = ''.join(e for e in input_str if e.isalpha() and e not in [ 'à', 'â', 'æ', 'ç', 'è', 'é', 'ê', 'î', 'œ'])\n",
    "    letter_count = Counter(mushed)\n",
    "    new_d = dict(letter_count)\n",
    "    keys = list(new_d.keys())\n",
    "    keys.sort()\n",
    "    result = defaultdict()\n",
    "    for key in keys:\n",
    "        result[key] = new_d[key]\n",
    "    return result\n",
    "\n",
    "def plot(data):\n",
    "    plt.bar(range(len(data)), list(data.values()), align='center')\n",
    "    plt.xticks(range(len(data)), list(data.keys()))\n",
    "    \n",
    "    \n",
    "    \n",
    "    "
   ]
  },
  {
   "cell_type": "code",
   "execution_count": 4,
   "metadata": {},
   "outputs": [
    {
     "data": {
      "image/png": "[encoded data removed]",
      "text/plain": [
       "<Figure size 432x288 with 1 Axes>"
      ]
     },
     "metadata": {
      "needs_background": "light"
     },
     "output_type": "display_data"
    }
   ],
   "source": [
    "file_data = fread('completeworksofwillyshakes.txt')\n",
    "data = letter_counter(file_data)\n",
    "plot(data)"
   ]
  }
 ],
 "metadata": {
  "kernelspec": {
   "display_name": "Python 3",
   "language": "python",
   "name": "python3"
  }
 },
 "nbformat": 4,
 "nbformat_minor": 2
}
